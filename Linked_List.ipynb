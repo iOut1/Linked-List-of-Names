{
  "nbformat": 4,
  "nbformat_minor": 0,
  "metadata": {
    "colab": {
      "name": "Linked List.ipynb",
      "provenance": [],
      "collapsed_sections": []
    },
    "kernelspec": {
      "name": "python3",
      "display_name": "Python 3"
    },
    "language_info": {
      "name": "python"
    }
  },
  "cells": [
    {
      "cell_type": "code",
      "source": [
        "class PersonNode:\n",
        "  def __init__(self, FullName=None):\n",
        "    self.FullName = FullName\n",
        "    self.next = None"
      ],
      "metadata": {
        "id": "kCksdYXSn8RQ"
      },
      "execution_count": 103,
      "outputs": []
    },
    {
      "cell_type": "code",
      "source": [
        "class ListOfPersons:\n",
        "  def __init__(self):\n",
        "    self.Head = PersonNode()\n",
        "  \n",
        "  def add(self, name):\n",
        "    addedPersonNode = PersonNode(name)\n",
        "    current = self.Head\n",
        "\n",
        "    while current.next != None:\n",
        "      current = current.next\n",
        "    current.next = addedPersonNode\n",
        "\n",
        "  def printlist(self, name):\n",
        "    current = self.Head\n",
        "\n",
        "    while current.next != None:\n",
        "      if current.FullName != None:\n",
        "        print(current.FullName)\n",
        "      current = current.next\n",
        "    print(current.FullName)"
      ],
      "metadata": {
        "id": "HhRZ-y2eoIdp"
      },
      "execution_count": 104,
      "outputs": []
    },
    {
      "cell_type": "code",
      "source": [
        "person = ListOfPersons()"
      ],
      "metadata": {
        "id": "bK0RxZpNo_xg"
      },
      "execution_count": 105,
      "outputs": []
    },
    {
      "cell_type": "code",
      "source": [
        ""
      ],
      "metadata": {
        "id": "Vk_qsd9WpDg_"
      },
      "execution_count": 105,
      "outputs": []
    },
    {
      "cell_type": "code",
      "source": [
        "person.printlist(\"Aba\")"
      ],
      "metadata": {
        "colab": {
          "base_uri": "https://localhost:8080/"
        },
        "id": "M47peGFqqEKW",
        "outputId": "18570a8a-604a-4b06-a336-9f0f036d0b0b"
      },
      "execution_count": 106,
      "outputs": [
        {
          "output_type": "stream",
          "name": "stdout",
          "text": [
            "None\n"
          ]
        }
      ]
    }
  ]
}