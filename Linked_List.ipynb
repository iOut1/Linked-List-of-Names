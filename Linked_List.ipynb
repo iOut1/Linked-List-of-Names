{
  "nbformat": 4,
  "nbformat_minor": 0,
  "metadata": {
    "colab": {
      "name": "Linked List.ipynb",
      "provenance": [],
      "collapsed_sections": []
    },
    "kernelspec": {
      "name": "python3",
      "display_name": "Python 3"
    },
    "language_info": {
      "name": "python"
    }
  },
  "cells": [
    {
      "cell_type": "code",
      "source": [
        "class PersonNode:\n",
        "  def __init__(self, FullName=None):\n",
        "    self.FullName = FullName\n",
        "    self.next = None\n",
        "    self.previous = None"
      ],
      "metadata": {
        "id": "kCksdYXSn8RQ"
      },
      "execution_count": 56,
      "outputs": []
    },
    {
      "cell_type": "code",
      "source": [
        "class ListOfPersons:\n",
        "  def __init__(self):\n",
        "    self.Head = PersonNode()\n",
        "  \n",
        "  def add(self, name):\n",
        "    addedPersonNode = PersonNode(name)\n",
        "    current = self.Head\n",
        "\n",
        "    while current.next != None:\n",
        "      current = current.next\n",
        "    current.next = addedPersonNode\n",
        "\n",
        "  def remove(self, FindName):\n",
        "    current = self.Head\n",
        "    previous =  current\n",
        "    current = current.next\n",
        "\n",
        "    while current != None:\n",
        "      if current.FullName == FindName:\n",
        "        previous.next = current.next\n",
        "\n",
        "      current = current.next\n",
        "      previous = previous.next\n",
        "\n",
        "  def printlist(self):\n",
        "    current = self.Head\n",
        "    allNames = []\n",
        "\n",
        "    while current.next != None:\n",
        "      if current.FullName != None:\n",
        "        allNames.append(current.FullName)\n",
        "      current = current.next\n",
        "    allNames.append(current.FullName)\n",
        "\n",
        "    return allNames"
      ],
      "metadata": {
        "id": "HhRZ-y2eoIdp"
      },
      "execution_count": 57,
      "outputs": []
    },
    {
      "cell_type": "code",
      "source": [
        "person = PersonNode(\"Larry\")\n",
        "if person.FullName != \"Larry\":\n",
        "    raise Exception(\"Expected person to contain FullName Larry\")"
      ],
      "metadata": {
        "id": "_5R4k_ELapve"
      },
      "execution_count": 58,
      "outputs": []
    },
    {
      "cell_type": "code",
      "source": [
        "testList = ListOfPersons()\n",
        "testList.add(\"Larry\")\n",
        "testList.add(\"Mary\")\n",
        "\n",
        "actualResult = testList.printlist()\n",
        "expectedResult = ['Larry', 'Mary']\n",
        "\n",
        "if actualResult != expectedResult:\n",
        "    raise Exception(\"Adding two items failed\")"
      ],
      "metadata": {
        "id": "J1Ond8pVareV"
      },
      "execution_count": 59,
      "outputs": []
    },
    {
      "cell_type": "code",
      "source": [
        "testList = ListOfPersons()\n",
        "actualResult = testList.printlist()\n",
        "expectedResult = []\n",
        "\n",
        "if actualResult != expectedResult:\n",
        "  raise Exception(\"Printing list with no names failed\")"
      ],
      "metadata": {
        "id": "tg6P6i8Za1RX"
      },
      "execution_count": null,
      "outputs": []
    },
    {
      "cell_type": "code",
      "source": [
        "testList = ListOfPersons()\n",
        "testList.add(\"Larry\")\n",
        "testList.remove(\"Larry\")\n",
        "\n",
        "\n",
        "actualResult = testList.printlist()\n",
        "expectedResult = []\n",
        "\n",
        "if actualResult != expectedResult:\n",
        "  raise Exception(\"Removing only name from list failed\")"
      ],
      "metadata": {
        "id": "J1JOeEjGcuQl"
      },
      "execution_count": null,
      "outputs": []
    },
    {
      "cell_type": "code",
      "source": [
        "testList = ListOfPersons()\n",
        "testList.add(\"Larry\")\n",
        "testList.add(\"Larry\")\n",
        "\n",
        "testList.remove(\"Larry\")\n",
        "\n",
        "actualResult = testList.printlist()\n",
        "expectedResult = [\"Larry\"]\n",
        "\n",
        "if actualResult != expectedResult:\n",
        "  raise Exception(\"Removing one name from a list with multiples of that name failed\")"
      ],
      "metadata": {
        "id": "BiaZJzsFdS7M"
      },
      "execution_count": 62,
      "outputs": []
    },
    {
      "cell_type": "code",
      "source": [
        "testList = ListOfPersons()\n",
        "testList.add(\"Larry\")\n",
        "testList.add(\"Larry\")\n",
        "testList.add(\"Mary\")\n",
        "\n",
        "testList.remove(\"Larry\")\n",
        "\n",
        "actualResult = testList.printlist()\n",
        "expectedResult = [\"Mary\"]\n",
        "\n",
        "if actualResult != expectedResult:\n",
        "  raise Exception(\"Removing one name from a list with multiples of that name failed and a different name failed\")"
      ],
      "metadata": {
        "colab": {
          "base_uri": "https://localhost:8080/",
          "height": 200
        },
        "id": "YEXqAMD7deVd",
        "outputId": "6513cbe1-e721-45cf-cef4-b63a9e956b78"
      },
      "execution_count": 63,
      "outputs": [
        {
          "output_type": "error",
          "ename": "Exception",
          "evalue": "ignored",
          "traceback": [
            "\u001b[0;31m---------------------------------------------------------------------------\u001b[0m",
            "\u001b[0;31mException\u001b[0m                                 Traceback (most recent call last)",
            "\u001b[0;32m<ipython-input-63-d432a801013a>\u001b[0m in \u001b[0;36m<module>\u001b[0;34m()\u001b[0m\n\u001b[1;32m     10\u001b[0m \u001b[0;34m\u001b[0m\u001b[0m\n\u001b[1;32m     11\u001b[0m \u001b[0;32mif\u001b[0m \u001b[0mactualResult\u001b[0m \u001b[0;34m!=\u001b[0m \u001b[0mexpectedResult\u001b[0m\u001b[0;34m:\u001b[0m\u001b[0;34m\u001b[0m\u001b[0;34m\u001b[0m\u001b[0m\n\u001b[0;32m---> 12\u001b[0;31m   \u001b[0;32mraise\u001b[0m \u001b[0mException\u001b[0m\u001b[0;34m(\u001b[0m\u001b[0;34m\"Removing one name from a list with multiples of that name failed and a different name failed\"\u001b[0m\u001b[0;34m)\u001b[0m\u001b[0;34m\u001b[0m\u001b[0;34m\u001b[0m\u001b[0m\n\u001b[0m",
            "\u001b[0;31mException\u001b[0m: Removing one name from a list with multiples of that name failed and a different name failed"
          ]
        }
      ]
    },
    {
      "cell_type": "code",
      "source": [
        "testList = ListOfPersons()\n",
        "testList.add(\"Larry\")\n",
        "testList.add(\"Mary\")\n",
        "\n",
        "testList.remove(\"Mary\")\n",
        "\n",
        "actualResult = testList.printlist()\n",
        "expectedResult = [\"Larry\"]\n",
        "\n",
        "if actualResult != expectedResult:\n",
        "  raise Exception(\"Removing last member of list failed\")"
      ],
      "metadata": {
        "id": "URRHZlSNd0wU"
      },
      "execution_count": 64,
      "outputs": []
    },
    {
      "cell_type": "code",
      "source": [
        "testList = ListOfPersons()\n",
        "testList.add(\"Larry\")\n",
        "testList.add(\"Mary\")\n",
        "\n",
        "testList.remove(\"Larry\")\n",
        "\n",
        "actualResult = testList.printlist()\n",
        "expectedResult = [\"Mary\"]\n",
        "\n",
        "if actualResult != expectedResult:\n",
        "  raise Exception(\"Removing first member of list failed\")"
      ],
      "metadata": {
        "id": "lK6u1i41eaIr"
      },
      "execution_count": 65,
      "outputs": []
    },
    {
      "cell_type": "code",
      "source": [
        "testList = ListOfPersons()\n",
        "testList.add(\"Larry\")\n",
        "testList.add(\"Bary\")\n",
        "testList.add(\"Mary\")\n",
        "\n",
        "testList.remove(\"Mary\")\n",
        "\n",
        "actualResult = testList.printlist()\n",
        "expectedResult = [\"Larry\", \"Bary\"]\n",
        "\n",
        "if actualResult != expectedResult:\n",
        "  raise Exception(\"Removing last member of list with more than 2 nodes failed\")"
      ],
      "metadata": {
        "id": "-eKLRXehejCJ"
      },
      "execution_count": 66,
      "outputs": []
    },
    {
      "cell_type": "code",
      "source": [
        "testList = ListOfPersons()\n",
        "testList.add(\"Larry\")\n",
        "testList.add(\"Bary\")\n",
        "testList.add(\"Mary\")\n",
        "\n",
        "testList.remove(\"Larry\")\n",
        "\n",
        "actualResult = testList.printlist()\n",
        "expectedResult = [\"Bary\", \"Mary\"]\n",
        "\n",
        "if actualResult != expectedResult:\n",
        "  raise Exception(\"Removing first member of list with more than 2 nodes failed\")"
      ],
      "metadata": {
        "id": "7fBg4Fz1et8i"
      },
      "execution_count": 67,
      "outputs": []
    },
    {
      "cell_type": "code",
      "source": [
        "testList = ListOfPersons()\n",
        "testList.add(\"Larry\")\n",
        "testList.add(\"Mary\")\n",
        "\n",
        "testList.remove(\"Bary\")\n",
        "\n",
        "actualResult = testList.printlist()\n",
        "expectedResult = [\"Larry\", \"Mary\"]\n",
        "\n",
        "if actualResult != expectedResult:\n",
        "  raise Exception(\"Removing part of list that doesn't exist\")"
      ],
      "metadata": {
        "id": "g_P-2B9ye0E6"
      },
      "execution_count": 68,
      "outputs": []
    }
  ]
}
