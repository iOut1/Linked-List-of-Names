{
  "cells": [
    {
      "cell_type": "code",
      "execution_count": 2,
      "metadata": {
        "id": "kCksdYXSn8RQ"
      },
      "outputs": [],
      "source": [
        "class PersonNode:\n",
        "  def __init__(self, FullName=None):\n",
        "    self.FullName = FullName\n",
        "    self.next = None"
      ]
    },
    {
      "cell_type": "code",
      "execution_count": 3,
      "metadata": {
        "id": "HhRZ-y2eoIdp"
      },
      "outputs": [],
      "source": [
        "class ListOfPersons:\n",
        "  def __init__(self):\n",
        "    self.Head = PersonNode()\n",
        "  \n",
        "  def add(self, name):\n",
        "    addedPersonNode = PersonNode(name)\n",
        "    current = self.Head\n",
        "\n",
        "    while current.next != None:\n",
        "      current = current.next\n",
        "    current.next = addedPersonNode\n",
        "\n",
        "  def remove(self, FindName):\n",
        "    current = self.Head\n",
        "    previous =  current\n",
        "    current = current.next\n",
        "\n",
        "    while current != None:\n",
        "      if current.FullName == FindName:\n",
        "        previous.next = current.next\n",
        "\n",
        "      current = current.next\n",
        "      previous = previous.next\n",
        "\n",
        "  def printlist(self):\n",
        "    current = self.Head\n",
        "\n",
        "    while current.next != None:\n",
        "      if current.FullName != None:\n",
        "        print(current.FullName)\n",
        "      current = current.next\n",
        "    print(current.FullName)"
      ]
    }
  ],
  "metadata": {
    "colab": {
      "collapsed_sections": [],
      "name": "Linked List.ipynb",
      "provenance": []
    },
    "kernelspec": {
      "display_name": "Python 3",
      "name": "python3"
    },
    "language_info": {
      "codemirror_mode": {
        "name": "ipython",
        "version": 3
      },
      "file_extension": ".py",
      "mimetype": "text/x-python",
      "name": "python",
      "nbconvert_exporter": "python",
      "pygments_lexer": "ipython3",
      "version": "3.9.6"
    }
  },
  "nbformat": 4,
  "nbformat_minor": 0
}
