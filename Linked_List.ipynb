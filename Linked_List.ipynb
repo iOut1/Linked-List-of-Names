{
  "cells": [
    {
      "cell_type": "code",
      "execution_count": 34,
      "metadata": {
        "id": "kCksdYXSn8RQ"
      },
      "outputs": [],
      "source": [
        "class PersonNode:\n",
        "  def __init__(self, FullName=None):\n",
        "    self.FullName = FullName\n",
        "    self.next = None"
      ]
    },
    {
      "cell_type": "code",
      "execution_count": 35,
      "metadata": {
        "id": "HhRZ-y2eoIdp"
      },
      "outputs": [],
      "source": [
        "class ListOfPersons:\n",
        "  def __init__(self):\n",
        "    self.Head = PersonNode()\n",
        "  \n",
        "  def add(self, name):\n",
        "    addedPersonNode = PersonNode(name)\n",
        "    current = self.Head\n",
        "\n",
        "    while current.next != None:\n",
        "      current = current.next\n",
        "    current.next = addedPersonNode\n",
        "\n",
        "  def remove(self, FindName):\n",
        "    current = self.Head\n",
        "    previous =  current\n",
        "    current = current.next\n",
        "\n",
        "    while current != None:\n",
        "      if current.FullName == FindName:\n",
        "        previous.next = current.next\n",
        "\n",
        "      current = current.next\n",
        "      previous = previous.next\n",
        "\n",
        "  def printlist(self):\n",
        "    current = self.Head\n",
        "\n",
        "    result = []\n",
        "\n",
        "    while current.next != None:\n",
        "      if current.FullName != None:\n",
        "        result.append(current.FullName)\n",
        "      current = current.next\n",
        "    result.append(current.FullName)\n",
        "    \n",
        "    return result"
      ]
    },
    {
      "cell_type": "markdown",
      "metadata": {},
      "source": [
        "# Unit tests"
      ]
    },
    {
      "cell_type": "markdown",
      "metadata": {},
      "source": [
        "### Creating PersonNode with name should succeed"
      ]
    },
    {
      "cell_type": "code",
      "execution_count": 36,
      "metadata": {},
      "outputs": [],
      "source": [
        "person = PersonNode(\"Larry\")\n",
        "if person.FullName != \"Larry\":\n",
        "    raise Exception(\"Expected person to contain FullName Larry\")"
      ]
    },
    {
      "cell_type": "markdown",
      "metadata": {},
      "source": [
        "### Adding two items should succeed"
      ]
    },
    {
      "cell_type": "code",
      "execution_count": 37,
      "metadata": {},
      "outputs": [],
      "source": [
        "testList = ListOfPersons()\n",
        "testList.add(\"Larry\")\n",
        "testList.add(\"Mary\")\n",
        "\n",
        "actualResult = testList.printlist()\n",
        "expectedResult = ['Larry', 'Mary']\n",
        "\n",
        "if actualResult != expectedResult:\n",
        "    raise Exception(\"Adding two items failed\")"
      ]
    }
  ],
  "metadata": {
    "colab": {
      "collapsed_sections": [],
      "name": "Linked List.ipynb",
      "provenance": []
    },
    "kernelspec": {
      "display_name": "Python 3",
      "name": "python3"
    },
    "language_info": {
      "codemirror_mode": {
        "name": "ipython",
        "version": 3
      },
      "file_extension": ".py",
      "mimetype": "text/x-python",
      "name": "python",
      "nbconvert_exporter": "python",
      "pygments_lexer": "ipython3",
      "version": "3.9.6"
    }
  },
  "nbformat": 4,
  "nbformat_minor": 0
}
