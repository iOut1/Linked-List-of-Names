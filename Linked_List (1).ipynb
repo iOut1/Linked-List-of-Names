{
  "nbformat": 4,
  "nbformat_minor": 0,
  "metadata": {
    "colab": {
      "name": "Linked List.ipynb",
      "provenance": [],
      "collapsed_sections": []
    },
    "kernelspec": {
      "name": "python3",
      "display_name": "Python 3"
    },
    "language_info": {
      "name": "python"
    }
  },
  "cells": [
    {
      "cell_type": "code",
      "source": [
        "class PersonNode:\n",
        "  def __init__(self, FullName=None):\n",
        "    self.FullName = FullName\n",
        "    self.next = None\n",
        "    self.previous = None"
      ],
      "metadata": {
        "id": "kCksdYXSn8RQ"
      },
      "execution_count": 102,
      "outputs": []
    },
    {
      "cell_type": "code",
      "source": [
        "class ListOfPersons:\n",
        "  def __init__(self):\n",
        "    self.Head = PersonNode()\n",
        "  \n",
        "  def add(self, name):\n",
        "    addedPersonNode = PersonNode(name)\n",
        "    current = self.Head\n",
        "\n",
        "    while current.next != None:\n",
        "      current = current.next\n",
        "    current.next = addedPersonNode\n",
        "\n",
        "  def remove(self, FindName):\n",
        "    current = self.Head\n",
        "    previous =  current\n",
        "    current = current.next\n",
        "\n",
        "    while current != None:\n",
        "      if current.FullName == FindName:\n",
        "        previous.next = current.next\n",
        "\n",
        "      current = current.next\n",
        "      previous = previous.next\n",
        "\n",
        "  def printlist(self):\n",
        "    current = self.Head\n",
        "\n",
        "    while current.next != None:\n",
        "      if current.FullName != None:\n",
        "        print(current.FullName)\n",
        "      current = current.next\n",
        "    print(current.FullName)"
      ],
      "metadata": {
        "id": "HhRZ-y2eoIdp"
      },
      "execution_count": 103,
      "outputs": []
    }
  ]
}